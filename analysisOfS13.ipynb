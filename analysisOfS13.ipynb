{
 "cells": [
  {
   "cell_type": "code",
   "execution_count": 1,
   "id": "b1a02a8f",
   "metadata": {},
   "outputs": [],
   "source": [
    "import numpy as np\n",
    "import userlib.util as tool\n",
    "from matplotlib import pyplot as plt\n",
    "import userlib.RVgenerator as RVG"
   ]
  },
  {
   "cell_type": "code",
   "execution_count": null,
   "id": "07cbde57",
   "metadata": {},
   "outputs": [],
   "source": []
  }
 ],
 "metadata": {
  "kernelspec": {
   "display_name": "Python 3",
   "language": "python",
   "name": "python3"
  },
  "language_info": {
   "codemirror_mode": {
    "name": "ipython",
    "version": 3
   },
   "file_extension": ".py",
   "mimetype": "text/x-python",
   "name": "python",
   "nbconvert_exporter": "python",
   "pygments_lexer": "ipython3",
   "version": "3.6.8"
  }
 },
 "nbformat": 4,
 "nbformat_minor": 5
}

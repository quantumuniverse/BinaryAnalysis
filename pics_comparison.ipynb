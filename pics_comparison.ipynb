{
 "cells": [
  {
   "cell_type": "code",
   "execution_count": null,
   "id": "d9e3c16e",
   "metadata": {},
   "outputs": [],
   "source": [
    "import numpy as np\n",
    "import matplotlib.pyplot as plt\n",
    "import userlib.util as tools\n",
    "from datetime import datetime\n",
    "import matplotlib as mpl\n",
    "\n",
    "%matplotlib inline\n",
    "plt.rcParams['xtick.labelsize'] = 13\n",
    "plt.rcParams['ytick.labelsize'] = 13\n",
    "plt.rcParams['axes.titlesize'] = 14\n",
    "plt.rcParams['axes.labelsize'] = 14\n",
    "plt.rcParams['legend.fontsize'] = 12\n",
    "plt.rcParams['figure.titlesize'] = 14\n",
    "plt.rcParams['figure.dpi'] = 80\n"
   ]
  },
  {
   "cell_type": "code",
   "execution_count": null,
   "id": "8c186a91",
   "metadata": {},
   "outputs": [],
   "source": [
    "\n",
    "# ================ Used for constructing the samples to be measured ================\n",
    "n_jobs = 61\n",
    "epochs = 6\n",
    "ground_truth_mc_times = [100, 1000, 10000]\n",
    "ground_truth_samples = [200, 400, 800, 1600, 3200]\n",
    "ground_truth_fbin = [0.1, 0.3, 0.5, 0.7, 0.9]\n",
    "ground_truth_epsilon = [0.1, 0.5, 1.0, 2.0, 4.0]\n",
    "#===================================================================================\n",
    "\n",
    "# ======================== Used for parameter scanning ========================\n",
    "par_intv = 0.1\n",
    "grid_pi = np.round(np.arange(-3, 3.00 + par_intv, par_intv), 3)\n",
    "grid_pi[ grid_pi == -1.] = -1.001\n",
    "grid_kappa = np.round([0.0], 3)\n",
    "grid_eta = np.round([0.0], 3)\n",
    "fbin_intv = 0.01\n",
    "grid_fbin = np.round(np.arange(0.01, 1.0 + fbin_intv, fbin_intv), 2)\n",
    "#===============================================================================\n"
   ]
  },
  {
   "cell_type": "code",
   "execution_count": null,
   "id": "ad6b2b2a",
   "metadata": {},
   "outputs": [],
   "source": [
    "mc_order = 4\n",
    "mc_coefficent = 1.0\n",
    "results_path = './results/n_jobs(61)/mc_times(10^%ix1.0)/'\n",
    "S13_results_path = results_path + 'S13/'\n",
    "HBM_results_path = results_path + 'HBM/'\n",
    "DVCD_results_path = results_path + 'DVCD/'\n",
    "sub_path_str = 'epsilon(%.01f)/samples(%i)/fbin(%.01f)/epochs(%02i)/pi_kappa_eta(%.01f, %.01f, %.01f)/'\n",
    "\n",
    "pic_data_sub_path = 'picData/'\n",
    "fn_running_time = 'running_time.txt'\n",
    "\n",
    "fn_grid_pi = 'grid_pi.npy'\n",
    "fn_positions_pi = 'positions_pi.npy'\n",
    "fn_likelihood_pi = 'likelihood_pi.npy'\n",
    "\n",
    "fn_grid_fbin = 'grid_fbin.npy'\n",
    "fn_positions_fbin = 'positions_fbin.npy'\n",
    "fn_likelihood_fbin = 'likelihood_fbin.npy'\n",
    "\n",
    "figures_path = './figures/'\n",
    "\n",
    "def loadPositions(rel_path):\n",
    "    pos_fbin =  np.load(rel_path + fn_positions_fbin)\n",
    "    grid_fbin = np.load(rel_path + fn_grid_fbin)\n",
    "    \n",
    "    pos_pi =  np.load(rel_path + fn_positions_pi)\n",
    "    grid_pi = np.load(rel_path + fn_grid_pi)\n",
    "\n",
    "    return grid_fbin[pos_fbin], grid_pi[pos_pi]"
   ]
  },
  {
   "cell_type": "code",
   "execution_count": 67,
   "id": "19ef6517",
   "metadata": {},
   "outputs": [
    {
     "name": "stdout",
     "output_type": "stream",
     "text": [
      "[array([0.19, 0.2 , 0.36, 0.55]), array([0.45, 0.23, 0.38, 0.53]), array([0.47, 0.23, 0.37, 0.54])]\n",
      "[array([ 0. , -0.5,  0. ,  1.2]), array([-0.3, -0.4,  0.1,  1.4]), array([-0.2, -0.4,  0.2,  1.4])]\n"
     ]
    }
   ],
   "source": [
    "# exploration of accuracy of S13 under different (mc_times)\n",
    "ep = 1.0\n",
    "fbin = 0.3\n",
    "epochs = 6\n",
    "samples = 200\n",
    "mc_order = [2,3,4]\n",
    "pi, kappa, eta = 0.0, 0.0, 0.0\n",
    "positions_fbin = []\n",
    "positions_pi = []\n",
    "for mo in mc_order:\n",
    "    rel_path = S13_results_path % mo + sub_path_str % (ep, samples, fbin, epochs, pi, kappa, eta) + pic_data_sub_path\n",
    "    data = loadPositions(rel_path);positions_fbin.append(data[0]);positions_pi.append(data[1])\n",
    "\n",
    "print (positions_fbin)\n",
    "print (positions_pi)"
   ]
  },
  {
   "cell_type": "code",
   "execution_count": 57,
   "id": "1874226a",
   "metadata": {},
   "outputs": [
    {
     "name": "stdout",
     "output_type": "stream",
     "text": [
      "[array([0.07, 0.06, 0.13, 0.22]), array([0.16, 0.17, 0.3 , 0.46]), array([0.57, 0.41, 0.54, 0.69]), array([0.89, 0.62, 0.77, 0.89]), array([1.  , 0.68, 0.81, 0.97])]\n",
      "[array([ 2.4, -0.2,  1.3,  2.5]), array([-0.3, -0.8, -0.4,  0.1]), array([-0.5, -0.5, -0.2,  0.3]), array([-0.4, -0.5, -0.3, -0.1]), array([-0.5, -0.6, -0.5, -0.3])]\n"
     ]
    }
   ],
   "source": [
    "# exploration of accuracy of S13 under different (fbin)\n",
    "ep = 1.0\n",
    "epochs = 6\n",
    "mc_order = 4\n",
    "pi, kappa, eta = -0.5, 0.0, 0.0\n",
    "samples = 200\n",
    "positions_fbin = []\n",
    "positions_pi = []\n",
    "for fbin in ground_truth_fbin:\n",
    "    rel_path = S13_results_path % mc_order + sub_path_str % (ep, samples, fbin, epochs, pi, kappa, eta) + pic_data_sub_path\n",
    "    data = loadPositions(rel_path);positions_fbin.append(data[0]);positions_pi.append(data[1])\n",
    "\n",
    "print (positions_fbin)\n",
    "print (positions_pi)"
   ]
  },
  {
   "cell_type": "code",
   "execution_count": 62,
   "id": "75881b50",
   "metadata": {},
   "outputs": [
    {
     "name": "stdout",
     "output_type": "stream",
     "text": [
      "[array([0.55, 0.46, 0.52, 0.59]), array([0.56, 0.46, 0.51, 0.56]), array([0.51, 0.47, 0.5 , 0.51]), array([0.52, 0.48, 0.5 , 0.52]), array([0.49, 0.48, 0.5 , 0.53])]\n",
      "[array([-1.4, -2.5, -1.8, -1.4]), array([-1.4, -2.1, -1.7, -1.4]), array([-1.5, -1.9, -1.6, -1.5]), array([-1.6, -1.9, -1.7, -1.5]), array([-1.6, -1.7, -1.6, -1.5])]\n"
     ]
    }
   ],
   "source": [
    "# exploration of accuracy of S13 under different (samples)\n",
    "ep = 1.0\n",
    "epochs = 6\n",
    "mc_order = 4\n",
    "pi, kappa, eta = -1.5, 0.0, 0.0\n",
    "positions_fbin = []\n",
    "positions_pi = []\n",
    "for samples in ground_truth_samples:\n",
    "    rel_path = S13_results_path % mc_order + sub_path_str % (ep, samples, fbin, epochs, pi, kappa, eta) + pic_data_sub_path\n",
    "    data = loadPositions(rel_path);positions_fbin.append(data[0]);positions_pi.append(data[1])\n",
    "\n",
    "print (positions_fbin)\n",
    "print (positions_pi)"
   ]
  },
  {
   "cell_type": "code",
   "execution_count": 63,
   "id": "ee09f2a1",
   "metadata": {},
   "outputs": [
    {
     "ename": "FileNotFoundError",
     "evalue": "[Errno 2] No such file or directory: './results/n_jobs(61)/mc_times(10^4x1.0)/S13/epsilon(1.0)/samples(200)/fbin(0.5)/epochs(06)/pi_kappa_eta(-1.0, 0.0, 0.0)/picData/positions_fbin.npy'",
     "output_type": "error",
     "traceback": [
      "\u001b[0;31m---------------------------------------------------------------------------\u001b[0m",
      "\u001b[0;31mFileNotFoundError\u001b[0m                         Traceback (most recent call last)",
      "\u001b[0;32m<ipython-input-63-6321120db767>\u001b[0m in \u001b[0;36m<module>\u001b[0;34m\u001b[0m\n\u001b[1;32m      8\u001b[0m \u001b[0;32mfor\u001b[0m \u001b[0mpi\u001b[0m \u001b[0;32min\u001b[0m \u001b[0mground_truth_pi\u001b[0m\u001b[0;34m:\u001b[0m\u001b[0;34m\u001b[0m\u001b[0;34m\u001b[0m\u001b[0m\n\u001b[1;32m      9\u001b[0m     \u001b[0mrel_path\u001b[0m \u001b[0;34m=\u001b[0m \u001b[0mS13_results_path\u001b[0m \u001b[0;34m%\u001b[0m \u001b[0mmc_order\u001b[0m \u001b[0;34m+\u001b[0m \u001b[0msub_path_str\u001b[0m \u001b[0;34m%\u001b[0m \u001b[0;34m(\u001b[0m\u001b[0mep\u001b[0m\u001b[0;34m,\u001b[0m \u001b[0msamples\u001b[0m\u001b[0;34m,\u001b[0m \u001b[0mfbin\u001b[0m\u001b[0;34m,\u001b[0m \u001b[0mepochs\u001b[0m\u001b[0;34m,\u001b[0m \u001b[0mpi\u001b[0m\u001b[0;34m,\u001b[0m \u001b[0mkappa\u001b[0m\u001b[0;34m,\u001b[0m \u001b[0meta\u001b[0m\u001b[0;34m)\u001b[0m \u001b[0;34m+\u001b[0m \u001b[0mpic_data_sub_path\u001b[0m\u001b[0;34m\u001b[0m\u001b[0;34m\u001b[0m\u001b[0m\n\u001b[0;32m---> 10\u001b[0;31m     \u001b[0mdata\u001b[0m \u001b[0;34m=\u001b[0m \u001b[0mloadPositions\u001b[0m\u001b[0;34m(\u001b[0m\u001b[0mrel_path\u001b[0m\u001b[0;34m)\u001b[0m\u001b[0;34m;\u001b[0m\u001b[0mpositions_fbin\u001b[0m\u001b[0;34m.\u001b[0m\u001b[0mappend\u001b[0m\u001b[0;34m(\u001b[0m\u001b[0mdata\u001b[0m\u001b[0;34m[\u001b[0m\u001b[0;36m0\u001b[0m\u001b[0;34m]\u001b[0m\u001b[0;34m)\u001b[0m\u001b[0;34m;\u001b[0m\u001b[0mpositions_pi\u001b[0m\u001b[0;34m.\u001b[0m\u001b[0mappend\u001b[0m\u001b[0;34m(\u001b[0m\u001b[0mdata\u001b[0m\u001b[0;34m[\u001b[0m\u001b[0;36m1\u001b[0m\u001b[0;34m]\u001b[0m\u001b[0;34m)\u001b[0m\u001b[0;34m\u001b[0m\u001b[0;34m\u001b[0m\u001b[0m\n\u001b[0m\u001b[1;32m     11\u001b[0m \u001b[0;34m\u001b[0m\u001b[0m\n\u001b[1;32m     12\u001b[0m \u001b[0mprint\u001b[0m \u001b[0;34m(\u001b[0m\u001b[0mpositions_fbin\u001b[0m\u001b[0;34m)\u001b[0m\u001b[0;34m\u001b[0m\u001b[0;34m\u001b[0m\u001b[0m\n",
      "\u001b[0;32m<ipython-input-53-238017028947>\u001b[0m in \u001b[0;36mloadPositions\u001b[0;34m(rel_path)\u001b[0m\n\u001b[1;32m     21\u001b[0m \u001b[0;34m\u001b[0m\u001b[0m\n\u001b[1;32m     22\u001b[0m \u001b[0;32mdef\u001b[0m \u001b[0mloadPositions\u001b[0m\u001b[0;34m(\u001b[0m\u001b[0mrel_path\u001b[0m\u001b[0;34m)\u001b[0m\u001b[0;34m:\u001b[0m\u001b[0;34m\u001b[0m\u001b[0;34m\u001b[0m\u001b[0m\n\u001b[0;32m---> 23\u001b[0;31m     \u001b[0mpos_fbin\u001b[0m \u001b[0;34m=\u001b[0m  \u001b[0mnp\u001b[0m\u001b[0;34m.\u001b[0m\u001b[0mload\u001b[0m\u001b[0;34m(\u001b[0m\u001b[0mrel_path\u001b[0m \u001b[0;34m+\u001b[0m \u001b[0mfn_positions_fbin\u001b[0m\u001b[0;34m)\u001b[0m\u001b[0;34m\u001b[0m\u001b[0;34m\u001b[0m\u001b[0m\n\u001b[0m\u001b[1;32m     24\u001b[0m     \u001b[0mgrid_fbin\u001b[0m \u001b[0;34m=\u001b[0m \u001b[0mnp\u001b[0m\u001b[0;34m.\u001b[0m\u001b[0mload\u001b[0m\u001b[0;34m(\u001b[0m\u001b[0mrel_path\u001b[0m \u001b[0;34m+\u001b[0m \u001b[0mfn_grid_fbin\u001b[0m\u001b[0;34m)\u001b[0m\u001b[0;34m\u001b[0m\u001b[0;34m\u001b[0m\u001b[0m\n\u001b[1;32m     25\u001b[0m \u001b[0;34m\u001b[0m\u001b[0m\n",
      "\u001b[0;32m~/.local/lib/python3.6/site-packages/numpy/lib/npyio.py\u001b[0m in \u001b[0;36mload\u001b[0;34m(file, mmap_mode, allow_pickle, fix_imports, encoding)\u001b[0m\n\u001b[1;32m    414\u001b[0m             \u001b[0mown_fid\u001b[0m \u001b[0;34m=\u001b[0m \u001b[0;32mFalse\u001b[0m\u001b[0;34m\u001b[0m\u001b[0;34m\u001b[0m\u001b[0m\n\u001b[1;32m    415\u001b[0m         \u001b[0;32melse\u001b[0m\u001b[0;34m:\u001b[0m\u001b[0;34m\u001b[0m\u001b[0;34m\u001b[0m\u001b[0m\n\u001b[0;32m--> 416\u001b[0;31m             \u001b[0mfid\u001b[0m \u001b[0;34m=\u001b[0m \u001b[0mstack\u001b[0m\u001b[0;34m.\u001b[0m\u001b[0menter_context\u001b[0m\u001b[0;34m(\u001b[0m\u001b[0mopen\u001b[0m\u001b[0;34m(\u001b[0m\u001b[0mos_fspath\u001b[0m\u001b[0;34m(\u001b[0m\u001b[0mfile\u001b[0m\u001b[0;34m)\u001b[0m\u001b[0;34m,\u001b[0m \u001b[0;34m\"rb\"\u001b[0m\u001b[0;34m)\u001b[0m\u001b[0;34m)\u001b[0m\u001b[0;34m\u001b[0m\u001b[0;34m\u001b[0m\u001b[0m\n\u001b[0m\u001b[1;32m    417\u001b[0m             \u001b[0mown_fid\u001b[0m \u001b[0;34m=\u001b[0m \u001b[0;32mTrue\u001b[0m\u001b[0;34m\u001b[0m\u001b[0;34m\u001b[0m\u001b[0m\n\u001b[1;32m    418\u001b[0m \u001b[0;34m\u001b[0m\u001b[0m\n",
      "\u001b[0;31mFileNotFoundError\u001b[0m: [Errno 2] No such file or directory: './results/n_jobs(61)/mc_times(10^4x1.0)/S13/epsilon(1.0)/samples(200)/fbin(0.5)/epochs(06)/pi_kappa_eta(-1.0, 0.0, 0.0)/picData/positions_fbin.npy'"
     ]
    }
   ],
   "source": [
    "# exploration of accuracy of S13 under different (pi|kappa=0, eta=0)\n",
    "ep = 1.0\n",
    "fbin = 0.5\n",
    "epochs = 6\n",
    "samples = 200\n",
    "ground_truth_pi, kappa, eta = [-1.5, -1.0, -0.5, 0.0, 0.5, 1.0, 1.5], 0.0, 0.0\n",
    "running_time = []\n",
    "for pi in ground_truth_pi:\n",
    "    rel_path = S13_results_path % mc_order + sub_path_str % (ep, samples, fbin, epochs, pi, kappa, eta) + pic_data_sub_path\n",
    "    data = loadPositions(rel_path);positions_fbin.append(data[0]);positions_pi.append(data[1])\n",
    "\n",
    "print (positions_fbin)\n",
    "print (positions_pi)"
   ]
  },
  {
   "cell_type": "code",
   "execution_count": null,
   "id": "24118fce",
   "metadata": {},
   "outputs": [
    {
     "name": "stdout",
     "output_type": "stream",
     "text": [
      "[array(56702.468), array(115780.839), array(231768.36), array(461494.638), array(1003467.053)]\n",
      "[array(7.003), array(7.571), array(9.286), array(11.905), array(17.199)]\n"
     ]
    },
    {
     "data": {
      "image/png": "[encoded data removed]",
      "text/plain": [
       "<Figure size 640x480 with 1 Axes>"
      ]
     },
     "metadata": {
      "needs_background": "light"
     },
     "output_type": "display_data"
    }
   ],
   "source": [
    "# Running times of S13 and DVCD under different (samples)\n",
    "ep = 1.0\n",
    "fbin = 0.5\n",
    "epochs = 6\n",
    "mc_order = 4\n",
    "pi, kappa, eta = 0.0, 0.0, 0.0\n",
    "running_time_S13 = []\n",
    "running_time_DVCD = []\n",
    "for samples in ground_truth_samples:\n",
    "    fn_S13 = S13_results_path % mc_order \\\n",
    "        + sub_path_str % (ep, samples, fbin, epochs, pi, kappa, eta)\\\n",
    "        + pic_data_sub_path\\\n",
    "        + fn_running_time\n",
    "    running_time_S13.append(np.loadtxt(fn_S13))\n",
    "\n",
    "    fn_DVCD = DVCD_results_path % mc_order \\\n",
    "        + sub_path_str % (ep, samples, fbin, epochs, pi, kappa, eta)\\\n",
    "        + pic_data_sub_path\\\n",
    "        + fn_running_time\n",
    "    running_time_DVCD.append(np.loadtxt(fn_DVCD))\n",
    "\n",
    "print (running_time_S13)\n",
    "print (running_time_DVCD)\n",
    "plt.figure(figsize=(8,6))\n",
    "plt.plot(ground_truth_samples, running_time_S13, 'o-', label='S13', color='C0')\n",
    "plt.plot(ground_truth_samples, running_time_DVCD, 's--', label='DVCD', color='C1')\n",
    "# ax.xaxis.set_major_formatter(plt.ScalarFormatter())\n",
    "# ax.xaxis.get_major_formatter().set_scientific(True)\n",
    "# ax.yaxis.set_major_formatter(plt.ScalarFormatter())\n",
    "# ax.yaxis.get_major_formatter().set_scientific(True)\n",
    "plt.xscale('log')\n",
    "plt.yscale('log')\n",
    "plt.xticks(ground_truth_samples)\n",
    "plt.xlabel('Number of Samples')\n",
    "plt.ylabel('Running Time (sec)')\n",
    "plt.title('$f_{bin}$=%.2f, epochs=%i, mc:10^%s'%(fbin, epochs, mc_order))\n",
    "plt.legend()\n",
    "plt.grid(alpha=0.3)\n",
    "plt.tight_layout()\n",
    "plt.savefig(figures_path+'running_time_S13_DVCD_epochs%i_mc10^%i.pdf'%(epochs, mc_order))\n",
    "plt.show()\n",
    "plt.close()"
   ]
  },
  {
   "cell_type": "code",
   "execution_count": null,
   "id": "30794f8a",
   "metadata": {},
   "outputs": [],
   "source": []
  }
 ],
 "metadata": {
  "kernelspec": {
   "display_name": "Python 3",
   "language": "python",
   "name": "python3"
  },
  "language_info": {
   "codemirror_mode": {
    "name": "ipython",
    "version": 3
   },
   "file_extension": ".py",
   "mimetype": "text/x-python",
   "name": "python",
   "nbconvert_exporter": "python",
   "pygments_lexer": "ipython3",
   "version": "3.6.8"
  }
 },
 "nbformat": 4,
 "nbformat_minor": 5
}
